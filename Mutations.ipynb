# >>> string = "abracadabra"
# You can access an index by:
# 
# >>> print string[5]
# a
# What if you would like to assign a value?
# 
# >>> string[5] = 'k' 
# Traceback (most recent call last):
#   File "<stdin>", line 1, in <module>
# TypeError: 'str' object does not support item assignment
# How would you approach this?
# 
# One solution is to convert the string to a list and then change the value.
# Example
# 
# >>> string = "abracadabra"
# >>> l = list(string)
# >>> l[5] = 'k'
# >>> string = ''.join(l)
# >>> print string
# abrackdabra
# Another approach is to slice the string and join it back.
# Example
# 
# >>> string = string[:5] + "k" + string[6:]
# >>> print string
# abrackdabra
# 
# Solution :-

def mutate_string(string, position, character):
    string = list(string)
    string[position] = character # replaces the character at "position" in the string with "character" i.e value stored in variable character.
    string = "".join(string) # join keyword helps in converting a List back to String
    return string # the new string is returned to s_new


if __name__ == '__main__':
    s = input()
    i, c = input().split()
    s_new = mutate_string(s, int(i), c)
    print(s_new)

    # END
