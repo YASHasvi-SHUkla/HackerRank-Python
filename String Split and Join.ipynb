# Example:

# >>> a = "this is a string"
# >>> a = a.split(" ") # a is converted to a list of strings. 
# >>> print a
# ['this', 'is', 'a', 'string']
# Joining a string is simple:
# >>> a = "-".join(a)
# >>> print a
# this-is-a-string 

# Solution :-

def split_and_join(line):
    # write your code here
    line = line.split(" ") # it will convert the string into a list of strings
    line = "-".join(line)  # join keyword is used to join all elements of list into one String 
    return line # it will return the output stored in line 
    
    
if __name__ == '__main__':
    line = input()
    result = split_and_join(line) 
    print(result)
